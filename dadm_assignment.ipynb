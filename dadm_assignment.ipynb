{
 "cells": [
  {
   "cell_type": "code",
   "execution_count": 1,
   "id": "ce1ed448",
   "metadata": {},
   "outputs": [],
   "source": [
    "import pandas as pd\n",
    "from sklearn.model_selection import train_test_split\n",
    "from sklearn.linear_model import LogisticRegression\n",
    "from sklearn.tree import DecisionTreeClassifier\n",
    "from sklearn.ensemble import RandomForestClassifier, GradientBoostingClassifier\n",
    "from sklearn.svm import SVC\n",
    "from sklearn.metrics import accuracy_score, precision_score, recall_score, f1_score, roc_auc_score\n",
    "from sklearn.preprocessing import LabelEncoder\n"
   ]
  },
  {
   "cell_type": "code",
   "execution_count": 2,
   "id": "1d849afd",
   "metadata": {},
   "outputs": [],
   "source": [
    "df = pd.read_csv('Reddit.csv')"
   ]
  },
  {
   "cell_type": "code",
   "execution_count": 3,
   "id": "fa50ede5",
   "metadata": {},
   "outputs": [],
   "source": [
    "# Perform label encoding for the categorical variable\n",
    "label_encoder = LabelEncoder()\n",
    "df['subreddit'] = label_encoder.fit_transform(df['subreddit'])"
   ]
  },
  {
   "cell_type": "code",
   "execution_count": 4,
   "id": "4d8c6313",
   "metadata": {},
   "outputs": [
    {
     "data": {
      "text/html": [
       "<div>\n",
       "<style scoped>\n",
       "    .dataframe tbody tr th:only-of-type {\n",
       "        vertical-align: middle;\n",
       "    }\n",
       "\n",
       "    .dataframe tbody tr th {\n",
       "        vertical-align: top;\n",
       "    }\n",
       "\n",
       "    .dataframe thead th {\n",
       "        text-align: right;\n",
       "    }\n",
       "</style>\n",
       "<table border=\"1\" class=\"dataframe\">\n",
       "  <thead>\n",
       "    <tr style=\"text-align: right;\">\n",
       "      <th></th>\n",
       "      <th>subreddit</th>\n",
       "      <th>post_id</th>\n",
       "      <th>sentence_range</th>\n",
       "      <th>text</th>\n",
       "      <th>id</th>\n",
       "      <th>label</th>\n",
       "      <th>confidence</th>\n",
       "      <th>social_timestamp</th>\n",
       "      <th>social_karma</th>\n",
       "      <th>syntax_ari</th>\n",
       "      <th>syntax_fk_grade</th>\n",
       "      <th>sentiment</th>\n",
       "      <th>lex_dal_avg</th>\n",
       "      <th>social_upvote</th>\n",
       "      <th>lex_dal_min</th>\n",
       "      <th>lex_dal_max</th>\n",
       "      <th>lex_liwc</th>\n",
       "    </tr>\n",
       "  </thead>\n",
       "  <tbody>\n",
       "    <tr>\n",
       "      <th>0</th>\n",
       "      <td>6</td>\n",
       "      <td>8601tu</td>\n",
       "      <td>(15, 20)</td>\n",
       "      <td>He said he had not felt that way before, sugge...</td>\n",
       "      <td>33181</td>\n",
       "      <td>1</td>\n",
       "      <td>0.8</td>\n",
       "      <td>1521614353</td>\n",
       "      <td>5</td>\n",
       "      <td>1.806818</td>\n",
       "      <td>3.253573</td>\n",
       "      <td>-0.002742</td>\n",
       "      <td>5.18767</td>\n",
       "      <td>1.86</td>\n",
       "      <td>3.1250</td>\n",
       "      <td>8.4821</td>\n",
       "      <td>784.94</td>\n",
       "    </tr>\n",
       "    <tr>\n",
       "      <th>1</th>\n",
       "      <td>2</td>\n",
       "      <td>8lbrx9</td>\n",
       "      <td>(0, 5)</td>\n",
       "      <td>Hey there r/assistance, Not sure if this is th...</td>\n",
       "      <td>2606</td>\n",
       "      <td>0</td>\n",
       "      <td>1.0</td>\n",
       "      <td>1527009817</td>\n",
       "      <td>4</td>\n",
       "      <td>9.429737</td>\n",
       "      <td>8.828316</td>\n",
       "      <td>0.292857</td>\n",
       "      <td>5.20550</td>\n",
       "      <td>2.65</td>\n",
       "      <td>3.1250</td>\n",
       "      <td>8.8889</td>\n",
       "      <td>880.13</td>\n",
       "    </tr>\n",
       "    <tr>\n",
       "      <th>2</th>\n",
       "      <td>6</td>\n",
       "      <td>9ch1zh</td>\n",
       "      <td>(15, 20)</td>\n",
       "      <td>My mom then hit me with the newspaper and it s...</td>\n",
       "      <td>38816</td>\n",
       "      <td>1</td>\n",
       "      <td>0.8</td>\n",
       "      <td>1535935605</td>\n",
       "      <td>2</td>\n",
       "      <td>7.769821</td>\n",
       "      <td>7.841667</td>\n",
       "      <td>0.011894</td>\n",
       "      <td>5.27024</td>\n",
       "      <td>0.67</td>\n",
       "      <td>3.1429</td>\n",
       "      <td>8.7143</td>\n",
       "      <td>867.58</td>\n",
       "    </tr>\n",
       "    <tr>\n",
       "      <th>3</th>\n",
       "      <td>7</td>\n",
       "      <td>7rorpp</td>\n",
       "      <td>[5, 10]</td>\n",
       "      <td>until i met my new boyfriend, he is amazing, h...</td>\n",
       "      <td>239</td>\n",
       "      <td>1</td>\n",
       "      <td>0.6</td>\n",
       "      <td>1516429555</td>\n",
       "      <td>0</td>\n",
       "      <td>2.667798</td>\n",
       "      <td>4.104027</td>\n",
       "      <td>0.141671</td>\n",
       "      <td>5.26318</td>\n",
       "      <td>5.50</td>\n",
       "      <td>3.1250</td>\n",
       "      <td>8.6364</td>\n",
       "      <td>1028.58</td>\n",
       "    </tr>\n",
       "    <tr>\n",
       "      <th>4</th>\n",
       "      <td>9</td>\n",
       "      <td>9p2gbc</td>\n",
       "      <td>[0, 5]</td>\n",
       "      <td>October is Domestic Violence Awareness Month a...</td>\n",
       "      <td>1421</td>\n",
       "      <td>1</td>\n",
       "      <td>0.8</td>\n",
       "      <td>1539809005</td>\n",
       "      <td>24</td>\n",
       "      <td>7.554238</td>\n",
       "      <td>7.910952</td>\n",
       "      <td>-0.204167</td>\n",
       "      <td>5.23972</td>\n",
       "      <td>2.00</td>\n",
       "      <td>3.1250</td>\n",
       "      <td>9.0000</td>\n",
       "      <td>693.15</td>\n",
       "    </tr>\n",
       "  </tbody>\n",
       "</table>\n",
       "</div>"
      ],
      "text/plain": [
       "   subreddit post_id sentence_range  \\\n",
       "0          6  8601tu       (15, 20)   \n",
       "1          2  8lbrx9         (0, 5)   \n",
       "2          6  9ch1zh       (15, 20)   \n",
       "3          7  7rorpp        [5, 10]   \n",
       "4          9  9p2gbc         [0, 5]   \n",
       "\n",
       "                                                text     id  label  \\\n",
       "0  He said he had not felt that way before, sugge...  33181      1   \n",
       "1  Hey there r/assistance, Not sure if this is th...   2606      0   \n",
       "2  My mom then hit me with the newspaper and it s...  38816      1   \n",
       "3  until i met my new boyfriend, he is amazing, h...    239      1   \n",
       "4  October is Domestic Violence Awareness Month a...   1421      1   \n",
       "\n",
       "   confidence  social_timestamp  social_karma  syntax_ari  syntax_fk_grade  \\\n",
       "0         0.8        1521614353             5    1.806818         3.253573   \n",
       "1         1.0        1527009817             4    9.429737         8.828316   \n",
       "2         0.8        1535935605             2    7.769821         7.841667   \n",
       "3         0.6        1516429555             0    2.667798         4.104027   \n",
       "4         0.8        1539809005            24    7.554238         7.910952   \n",
       "\n",
       "   sentiment  lex_dal_avg  social_upvote  lex_dal_min  lex_dal_max  lex_liwc  \n",
       "0  -0.002742      5.18767           1.86       3.1250       8.4821    784.94  \n",
       "1   0.292857      5.20550           2.65       3.1250       8.8889    880.13  \n",
       "2   0.011894      5.27024           0.67       3.1429       8.7143    867.58  \n",
       "3   0.141671      5.26318           5.50       3.1250       8.6364   1028.58  \n",
       "4  -0.204167      5.23972           2.00       3.1250       9.0000    693.15  "
      ]
     },
     "execution_count": 4,
     "metadata": {},
     "output_type": "execute_result"
    }
   ],
   "source": [
    "df.head()"
   ]
  },
  {
   "cell_type": "markdown",
   "id": "eb0770f1",
   "metadata": {},
   "source": [
    "# Creating variables with Dependent and Independent Variables"
   ]
  },
  {
   "cell_type": "code",
   "execution_count": 5,
   "id": "9f75f5a8",
   "metadata": {},
   "outputs": [],
   "source": [
    "X = df[['subreddit', 'social_karma', 'syntax_ari', 'syntax_fk_grade', 'sentiment', 'lex_dal_avg','social_upvote','lex_dal_min','lex_dal_max','lex_liwc']]\n",
    "y = df['label']"
   ]
  },
  {
   "cell_type": "code",
   "execution_count": 6,
   "id": "0a7b1328",
   "metadata": {},
   "outputs": [
    {
     "data": {
      "text/plain": [
       "0       1\n",
       "1       0\n",
       "2       1\n",
       "3       1\n",
       "4       1\n",
       "       ..\n",
       "2833    0\n",
       "2834    1\n",
       "2835    0\n",
       "2836    0\n",
       "2837    1\n",
       "Name: label, Length: 2838, dtype: int64"
      ]
     },
     "execution_count": 6,
     "metadata": {},
     "output_type": "execute_result"
    }
   ],
   "source": [
    "y"
   ]
  },
  {
   "cell_type": "code",
   "execution_count": 7,
   "id": "35894479",
   "metadata": {},
   "outputs": [],
   "source": [
    "# As we have our varaibles categorised now we shall create the test and train dataset with the ratio being 80:20.\n",
    "X_train, X_test, y_train, y_test = train_test_split(X, y, test_size=0.2, random_state=42)"
   ]
  },
  {
   "cell_type": "markdown",
   "id": "3d7804ed",
   "metadata": {},
   "source": [
    "# Logistic Regression"
   ]
  },
  {
   "cell_type": "code",
   "execution_count": 8,
   "id": "d087b0a8",
   "metadata": {},
   "outputs": [],
   "source": [
    "# Create an instance of the linear regression model\n",
    "lr_model = LogisticRegression(max_iter=1000)"
   ]
  },
  {
   "cell_type": "code",
   "execution_count": 9,
   "id": "4c9c961d",
   "metadata": {},
   "outputs": [
    {
     "data": {
      "text/plain": [
       "LogisticRegression(max_iter=1000)"
      ]
     },
     "execution_count": 9,
     "metadata": {},
     "output_type": "execute_result"
    }
   ],
   "source": [
    "# Fit the model to the training data\n",
    "lr_model.fit(X_train, y_train)"
   ]
  },
  {
   "cell_type": "code",
   "execution_count": 10,
   "id": "1f1610d4",
   "metadata": {},
   "outputs": [],
   "source": [
    "# Make predictions on the test data\n",
    "lr_pred = lr_model.predict(X_test)"
   ]
  },
  {
   "cell_type": "code",
   "execution_count": 11,
   "id": "891cbbf5",
   "metadata": {},
   "outputs": [],
   "source": [
    "# Predict the Accuracy Score\n",
    "lr_accuracy = accuracy_score(y_test, lr_pred)\n",
    "\n",
    "# Evaluate the precision Score\n",
    "lr_precision = precision_score(y_test, lr_pred)\n",
    "\n",
    "# Recall Score\n",
    "lr_recall = recall_score(y_test, lr_pred)\n",
    "\n",
    "# F1 Score whcih combines precision and recall score to one.\n",
    "lr_f1 = f1_score(y_test, lr_pred)\n",
    "\n",
    "# Calculate AUC (assuming binary classification)\n",
    "lr_roc_auc = roc_auc_score(y_test, lr_pred)"
   ]
  },
  {
   "cell_type": "markdown",
   "id": "9952016c",
   "metadata": {},
   "source": [
    "# Decision tree Classifier"
   ]
  },
  {
   "cell_type": "code",
   "execution_count": 12,
   "id": "e1444575",
   "metadata": {},
   "outputs": [],
   "source": [
    "# Create an instance of the decision tree regressor\n",
    "dt_model = DecisionTreeClassifier()"
   ]
  },
  {
   "cell_type": "code",
   "execution_count": 13,
   "id": "f08c320d",
   "metadata": {},
   "outputs": [
    {
     "data": {
      "text/plain": [
       "DecisionTreeClassifier()"
      ]
     },
     "execution_count": 13,
     "metadata": {},
     "output_type": "execute_result"
    }
   ],
   "source": [
    "# Fit the model to the training data\n",
    "dt_model.fit(X_train, y_train)"
   ]
  },
  {
   "cell_type": "code",
   "execution_count": 14,
   "id": "839da2cf",
   "metadata": {},
   "outputs": [],
   "source": [
    "# Make predictions on the test data\n",
    "dt_pred = dt_model.predict(X_test)"
   ]
  },
  {
   "cell_type": "code",
   "execution_count": 15,
   "id": "7ab4a37d",
   "metadata": {},
   "outputs": [],
   "source": [
    "# Predict the Accuracy Score\n",
    "dt_accuracy = accuracy_score(y_test, dt_pred)\n",
    "\n",
    "# Evaluate the precision Score\n",
    "dt_precision = precision_score(y_test, dt_pred)\n",
    "\n",
    "# Recall Score\n",
    "dt_recall = recall_score(y_test, dt_pred)\n",
    "\n",
    "# F1 Score whcih combines precision and recall score to one.\n",
    "dt_f1 = f1_score(y_test, dt_pred)\n",
    "\n",
    "# Calculate AUC (assuming binary classification)\n",
    "dt_roc_auc = roc_auc_score(y_test, dt_pred)"
   ]
  },
  {
   "cell_type": "markdown",
   "id": "b0629d77",
   "metadata": {},
   "source": [
    "# SVM"
   ]
  },
  {
   "cell_type": "code",
   "execution_count": 16,
   "id": "469a388d",
   "metadata": {},
   "outputs": [],
   "source": [
    "# Create an instance of the Support Vector Regression (SVR) model\n",
    "svm_model = SVC()"
   ]
  },
  {
   "cell_type": "code",
   "execution_count": 17,
   "id": "ff0e5132",
   "metadata": {},
   "outputs": [
    {
     "data": {
      "text/plain": [
       "SVC()"
      ]
     },
     "execution_count": 17,
     "metadata": {},
     "output_type": "execute_result"
    }
   ],
   "source": [
    "# Fit the model to the training data\n",
    "svm_model.fit(X_train, y_train)"
   ]
  },
  {
   "cell_type": "code",
   "execution_count": 18,
   "id": "b64c2ecb",
   "metadata": {},
   "outputs": [],
   "source": [
    "# Make predictions on the test data\n",
    "svm_pred = svm_model.predict(X_test)"
   ]
  },
  {
   "cell_type": "code",
   "execution_count": 19,
   "id": "a3413814",
   "metadata": {},
   "outputs": [],
   "source": [
    "# Predict the Accuracy Score\n",
    "svm_accuracy = accuracy_score(y_test, svm_pred)\n",
    "\n",
    "# Evaluate the precision Score\n",
    "svm_precision = precision_score(y_test, svm_pred)\n",
    "\n",
    "# Recall Score\n",
    "svm_recall = recall_score(y_test, svm_pred)\n",
    "\n",
    "# F1 Score whcih combines precision and recall score to one.\n",
    "svm_f1 = f1_score(y_test, svm_pred)\n",
    "\n",
    "# Calculate AUC (assuming binary classification)\n",
    "svm_roc_auc = roc_auc_score(y_test, svm_pred)"
   ]
  },
  {
   "cell_type": "markdown",
   "id": "58d6738f",
   "metadata": {},
   "source": [
    "# Random Forest Classifier"
   ]
  },
  {
   "cell_type": "code",
   "execution_count": 20,
   "id": "48a99c95",
   "metadata": {},
   "outputs": [],
   "source": [
    "# Create an instance of the Random Forest Regression model\n",
    "rf_model = RandomForestClassifier()"
   ]
  },
  {
   "cell_type": "code",
   "execution_count": 21,
   "id": "a3c1e981",
   "metadata": {},
   "outputs": [
    {
     "data": {
      "text/plain": [
       "RandomForestClassifier()"
      ]
     },
     "execution_count": 21,
     "metadata": {},
     "output_type": "execute_result"
    }
   ],
   "source": [
    "# Fit the model to the training data\n",
    "rf_model.fit(X_train, y_train)"
   ]
  },
  {
   "cell_type": "code",
   "execution_count": 22,
   "id": "3b43a77e",
   "metadata": {},
   "outputs": [],
   "source": [
    "# Make predictions on the test data\n",
    "rf_pred = rf_model.predict(X_test)"
   ]
  },
  {
   "cell_type": "code",
   "execution_count": 23,
   "id": "a2c633cf",
   "metadata": {},
   "outputs": [],
   "source": [
    "# Predict the Accuracy Score\n",
    "rf_accuracy = accuracy_score(y_test, rf_pred)\n",
    "\n",
    "# Evaluate the precision Score\n",
    "rf_precision = precision_score(y_test, rf_pred)\n",
    "\n",
    "# Recall Score\n",
    "rf_recall = recall_score(y_test, rf_pred)\n",
    "\n",
    "# F1 Score whcih combines precision and recall score to one.\n",
    "rf_f1 = f1_score(y_test, rf_pred)\n",
    "\n",
    "# Calculate AUC (assuming binary classification)\n",
    "rf_roc_auc = roc_auc_score(y_test, rf_pred)"
   ]
  },
  {
   "cell_type": "markdown",
   "id": "0beb2fc8",
   "metadata": {},
   "source": [
    "# Gradient Boosting"
   ]
  },
  {
   "cell_type": "code",
   "execution_count": 24,
   "id": "f0f65320",
   "metadata": {},
   "outputs": [],
   "source": [
    "# Create an instance of the Naive Bayes Regression model\n",
    "gb_model = GradientBoostingClassifier()"
   ]
  },
  {
   "cell_type": "code",
   "execution_count": 25,
   "id": "e4fd5966",
   "metadata": {},
   "outputs": [
    {
     "data": {
      "text/plain": [
       "GradientBoostingClassifier()"
      ]
     },
     "execution_count": 25,
     "metadata": {},
     "output_type": "execute_result"
    }
   ],
   "source": [
    "# Fit the model to the training data\n",
    "gb_model.fit(X_train, y_train)"
   ]
  },
  {
   "cell_type": "code",
   "execution_count": 26,
   "id": "04e6176e",
   "metadata": {},
   "outputs": [],
   "source": [
    "# Make predictions on the test data\n",
    "gb_pred = gb_model.predict(X_test)"
   ]
  },
  {
   "cell_type": "code",
   "execution_count": 27,
   "id": "0b395b9a",
   "metadata": {},
   "outputs": [],
   "source": [
    "# Predict the Accuracy Score\n",
    "gb_accuracy = accuracy_score(y_test, gb_pred)\n",
    "\n",
    "# Evaluate the precision Score\n",
    "gb_precision = precision_score(y_test, gb_pred)\n",
    "\n",
    "# Recall Score\n",
    "gb_recall = recall_score(y_test, gb_pred)\n",
    "\n",
    "# F1 Score whcih combines precision and recall score to one.\n",
    "gb_f1 = f1_score(y_test, gb_pred)\n",
    "\n",
    "# Calculate AUC (assuming binary classification)\n",
    "gb_roc_auc = roc_auc_score(y_test, gb_pred)"
   ]
  },
  {
   "cell_type": "code",
   "execution_count": 28,
   "id": "1be4fd2f",
   "metadata": {},
   "outputs": [
    {
     "data": {
      "image/png": "[encoded data removed]",
      "text/plain": [
       "<Figure size 576x432 with 1 Axes>"
      ]
     },
     "metadata": {
      "needs_background": "light"
     },
     "output_type": "display_data"
    }
   ],
   "source": [
    "import matplotlib.pyplot as plt\n",
    "\n",
    "models = ['Logistic Regression', 'Decision Tree', 'Random Forest', 'Gradient Boosting', 'SVM']\n",
    "accuracy_scores = [lr_accuracy, dt_accuracy, rf_accuracy, gb_accuracy, svm_accuracy]\n",
    "\n",
    "plt.figure(figsize=(8, 6))\n",
    "plt.bar(models, accuracy_scores)\n",
    "plt.xlabel('Models')\n",
    "plt.ylabel('Accuracy')\n",
    "plt.title('Accuracy Comparison of Different Models')\n",
    "\n",
    "# Add the values on top of each bar\n",
    "for i, score in enumerate(accuracy_scores):\n",
    "    plt.text(i, score, f'{score:.2f}', ha='center', va='bottom')\n",
    "\n",
    "plt.xticks(rotation=45)\n",
    "plt.show()\n"
   ]
  },
  {
   "cell_type": "code",
   "execution_count": 29,
   "id": "84c99c47",
   "metadata": {},
   "outputs": [
    {
     "data": {
      "image/png": "[encoded data removed]",
      "text/plain": [
       "<Figure size 576x432 with 1 Axes>"
      ]
     },
     "metadata": {
      "needs_background": "light"
     },
     "output_type": "display_data"
    }
   ],
   "source": [
    "import matplotlib.pyplot as plt\n",
    "\n",
    "models = ['Logistic Regression', 'Decision Tree', 'Random Forest', 'Gradient Boosting', 'SVM']\n",
    "roc_auc_scores = [lr_roc_auc, dt_roc_auc, rf_roc_auc, gb_roc_auc, svm_roc_auc]\n",
    "\n",
    "plt.figure(figsize=(8, 6))\n",
    "plt.bar(models, roc_auc_scores)\n",
    "plt.xlabel('Models')\n",
    "plt.ylabel('ROC-AUC')\n",
    "plt.title('ROC-AUC Comparison of Different Models')\n",
    "\n",
    "# Add the values on top of each bar\n",
    "for i, score in enumerate(roc_auc_scores):\n",
    "    plt.text(i, score, f'{score:.2f}', ha='center', va='bottom')\n",
    "\n",
    "plt.xticks(rotation=45)\n",
    "plt.show()"
   ]
  },
  {
   "cell_type": "markdown",
   "id": "6a86048a",
   "metadata": {},
   "source": [
    " With the above values we see that gradient boosting has the best accuracy and also Roc-Auc score.\n",
    " We shall now create sub models in the gradient boosting to check if there is any increase \n",
    " in the score based on the independent variables"
   ]
  },
  {
   "cell_type": "markdown",
   "id": "d6d6b91d",
   "metadata": {},
   "source": [
    "# Gradient Boosting \n",
    "Model 2"
   ]
  },
  {
   "cell_type": "code",
   "execution_count": 30,
   "id": "a63c4e81",
   "metadata": {},
   "outputs": [],
   "source": [
    "X1 = df[['subreddit', 'syntax_ari', 'syntax_fk_grade', 'sentiment', 'lex_dal_avg','social_upvote','lex_dal_min','lex_dal_max','lex_liwc']]\n",
    "y1 = df['label']"
   ]
  },
  {
   "cell_type": "code",
   "execution_count": 31,
   "id": "edc74856",
   "metadata": {},
   "outputs": [],
   "source": [
    "# As we have our varaibles categorised now we shall create the test and train dataset with the ratio being 80:20.\n",
    "X1_train, X1_test, y1_train, y1_test = train_test_split(X1, y1, test_size=0.2, random_state=42)"
   ]
  },
  {
   "cell_type": "code",
   "execution_count": 32,
   "id": "44785ee8",
   "metadata": {},
   "outputs": [],
   "source": [
    "# Gradient Boosting\n",
    "gb_model2 = GradientBoostingClassifier()\n",
    "gb_model2.fit(X1_train, y1_train)\n",
    "gb_pred2 = gb_model2.predict(X1_test)\n",
    "gb_accuracy2 = accuracy_score(y1_test, gb_pred2)\n",
    "gb_precision2 = precision_score(y1_test, gb_pred2)\n",
    "gb_recall2 = recall_score(y1_test, gb_pred2)\n",
    "gb_f1_2 = f1_score(y1_test, gb_pred2)\n",
    "gb_roc_auc_2 = roc_auc_score(y1_test, gb_pred2)"
   ]
  },
  {
   "cell_type": "code",
   "execution_count": 33,
   "id": "024a1b48",
   "metadata": {},
   "outputs": [
    {
     "name": "stdout",
     "output_type": "stream",
     "text": [
      "Logistic Regression:\n",
      "Accuracy: 0.6426056338028169\n",
      "Precision: 0.6655844155844156\n",
      "Recall: 0.6721311475409836\n",
      "F1-score: 0.6688417618270799\n",
      "ROC AUC: 0.6402480832761952\n",
      "\n"
     ]
    }
   ],
   "source": [
    "# Print the evaluation metrics\n",
    "print(\"Logistic Regression:\")\n",
    "print(\"Accuracy:\", gb_accuracy2)\n",
    "print(\"Precision:\", gb_precision2)\n",
    "print(\"Recall:\", gb_recall2)\n",
    "print(\"F1-score:\", gb_f1_2)\n",
    "print(\"ROC AUC:\", gb_roc_auc_2)\n",
    "print()\n"
   ]
  },
  {
   "cell_type": "code",
   "execution_count": 34,
   "id": "26d48ad8",
   "metadata": {},
   "outputs": [
    {
     "data": {
      "text/html": [
       "<div>\n",
       "<style scoped>\n",
       "    .dataframe tbody tr th:only-of-type {\n",
       "        vertical-align: middle;\n",
       "    }\n",
       "\n",
       "    .dataframe tbody tr th {\n",
       "        vertical-align: top;\n",
       "    }\n",
       "\n",
       "    .dataframe thead th {\n",
       "        text-align: right;\n",
       "    }\n",
       "</style>\n",
       "<table border=\"1\" class=\"dataframe\">\n",
       "  <thead>\n",
       "    <tr style=\"text-align: right;\">\n",
       "      <th></th>\n",
       "      <th>subreddit</th>\n",
       "      <th>post_id</th>\n",
       "      <th>sentence_range</th>\n",
       "      <th>text</th>\n",
       "      <th>id</th>\n",
       "      <th>label</th>\n",
       "      <th>confidence</th>\n",
       "      <th>social_timestamp</th>\n",
       "      <th>social_karma</th>\n",
       "      <th>syntax_ari</th>\n",
       "      <th>syntax_fk_grade</th>\n",
       "      <th>sentiment</th>\n",
       "      <th>lex_dal_avg</th>\n",
       "      <th>social_upvote</th>\n",
       "      <th>lex_dal_min</th>\n",
       "      <th>lex_dal_max</th>\n",
       "      <th>lex_liwc</th>\n",
       "    </tr>\n",
       "  </thead>\n",
       "  <tbody>\n",
       "    <tr>\n",
       "      <th>0</th>\n",
       "      <td>6</td>\n",
       "      <td>8601tu</td>\n",
       "      <td>(15, 20)</td>\n",
       "      <td>He said he had not felt that way before, sugge...</td>\n",
       "      <td>33181</td>\n",
       "      <td>1</td>\n",
       "      <td>0.8</td>\n",
       "      <td>1521614353</td>\n",
       "      <td>5</td>\n",
       "      <td>1.806818</td>\n",
       "      <td>3.253573</td>\n",
       "      <td>-0.002742</td>\n",
       "      <td>5.18767</td>\n",
       "      <td>1.86</td>\n",
       "      <td>3.1250</td>\n",
       "      <td>8.4821</td>\n",
       "      <td>784.94</td>\n",
       "    </tr>\n",
       "    <tr>\n",
       "      <th>1</th>\n",
       "      <td>2</td>\n",
       "      <td>8lbrx9</td>\n",
       "      <td>(0, 5)</td>\n",
       "      <td>Hey there r/assistance, Not sure if this is th...</td>\n",
       "      <td>2606</td>\n",
       "      <td>0</td>\n",
       "      <td>1.0</td>\n",
       "      <td>1527009817</td>\n",
       "      <td>4</td>\n",
       "      <td>9.429737</td>\n",
       "      <td>8.828316</td>\n",
       "      <td>0.292857</td>\n",
       "      <td>5.20550</td>\n",
       "      <td>2.65</td>\n",
       "      <td>3.1250</td>\n",
       "      <td>8.8889</td>\n",
       "      <td>880.13</td>\n",
       "    </tr>\n",
       "    <tr>\n",
       "      <th>2</th>\n",
       "      <td>6</td>\n",
       "      <td>9ch1zh</td>\n",
       "      <td>(15, 20)</td>\n",
       "      <td>My mom then hit me with the newspaper and it s...</td>\n",
       "      <td>38816</td>\n",
       "      <td>1</td>\n",
       "      <td>0.8</td>\n",
       "      <td>1535935605</td>\n",
       "      <td>2</td>\n",
       "      <td>7.769821</td>\n",
       "      <td>7.841667</td>\n",
       "      <td>0.011894</td>\n",
       "      <td>5.27024</td>\n",
       "      <td>0.67</td>\n",
       "      <td>3.1429</td>\n",
       "      <td>8.7143</td>\n",
       "      <td>867.58</td>\n",
       "    </tr>\n",
       "  </tbody>\n",
       "</table>\n",
       "</div>"
      ],
      "text/plain": [
       "   subreddit post_id sentence_range  \\\n",
       "0          6  8601tu       (15, 20)   \n",
       "1          2  8lbrx9         (0, 5)   \n",
       "2          6  9ch1zh       (15, 20)   \n",
       "\n",
       "                                                text     id  label  \\\n",
       "0  He said he had not felt that way before, sugge...  33181      1   \n",
       "1  Hey there r/assistance, Not sure if this is th...   2606      0   \n",
       "2  My mom then hit me with the newspaper and it s...  38816      1   \n",
       "\n",
       "   confidence  social_timestamp  social_karma  syntax_ari  syntax_fk_grade  \\\n",
       "0         0.8        1521614353             5    1.806818         3.253573   \n",
       "1         1.0        1527009817             4    9.429737         8.828316   \n",
       "2         0.8        1535935605             2    7.769821         7.841667   \n",
       "\n",
       "   sentiment  lex_dal_avg  social_upvote  lex_dal_min  lex_dal_max  lex_liwc  \n",
       "0  -0.002742      5.18767           1.86       3.1250       8.4821    784.94  \n",
       "1   0.292857      5.20550           2.65       3.1250       8.8889    880.13  \n",
       "2   0.011894      5.27024           0.67       3.1429       8.7143    867.58  "
      ]
     },
     "execution_count": 34,
     "metadata": {},
     "output_type": "execute_result"
    }
   ],
   "source": [
    "df.head(3)"
   ]
  },
  {
   "cell_type": "markdown",
   "id": "c608508c",
   "metadata": {},
   "source": [
    "Model 3"
   ]
  },
  {
   "cell_type": "code",
   "execution_count": 35,
   "id": "0c7367b0",
   "metadata": {},
   "outputs": [],
   "source": [
    "X2 = df[['subreddit','social_karma', 'syntax_ari', 'syntax_fk_grade', 'sentiment','social_upvote']]\n",
    "y2 = df['label']\n",
    "# As we have our variables categorized now we shall create the test and train dataset with the ratio being 80:20.\n",
    "X2_train, X2_test, y2_train, y2_test = train_test_split(X2, y2, test_size=0.2, random_state=42)"
   ]
  },
  {
   "cell_type": "code",
   "execution_count": 36,
   "id": "d7c669dd",
   "metadata": {},
   "outputs": [],
   "source": [
    "# Gradient Boosting\n",
    "gb_model3 = GradientBoostingClassifier()\n",
    "gb_model3.fit(X2_train, y2_train)\n",
    "gb_pred3 = gb_model3.predict(X2_test)\n",
    "gb_accuracy3 = accuracy_score(y2_test, gb_pred3)\n",
    "gb_precision3 = precision_score(y2_test, gb_pred3)\n",
    "gb_recall3 = recall_score(y2_test, gb_pred3)\n",
    "gb_f1_3 = f1_score(y2_test, gb_pred3)\n",
    "gb_roc_auc_3 = roc_auc_score(y2_test, gb_pred3)"
   ]
  },
  {
   "cell_type": "code",
   "execution_count": 37,
   "id": "1516c529",
   "metadata": {},
   "outputs": [
    {
     "name": "stdout",
     "output_type": "stream",
     "text": [
      "Logistic Regression:\n",
      "Accuracy: 0.6302816901408451\n",
      "Precision: 0.6557377049180327\n",
      "Recall: 0.6557377049180327\n",
      "F1-score: 0.6557377049180327\n",
      "ROC AUC: 0.6282490805958985\n",
      "\n"
     ]
    }
   ],
   "source": [
    "print(\"Logistic Regression:\")\n",
    "print(\"Accuracy:\", gb_accuracy3)\n",
    "print(\"Precision:\", gb_precision3)\n",
    "print(\"Recall:\", gb_recall3)\n",
    "print(\"F1-score:\", gb_f1_3)\n",
    "print(\"ROC AUC:\", gb_roc_auc_3)\n",
    "print()\n"
   ]
  },
  {
   "cell_type": "markdown",
   "id": "9eb6c49f",
   "metadata": {},
   "source": [
    " Model 4"
   ]
  },
  {
   "cell_type": "code",
   "execution_count": 38,
   "id": "04cd58df",
   "metadata": {},
   "outputs": [],
   "source": [
    "X3 = df[['sentiment','lex_dal_avg','lex_dal_min','lex_dal_max','lex_liwc']]\n",
    "y3 = df['label']\n",
    "# As we have our variables categorized now we shall create the test and train dataset with the ratio being 80:20.\n",
    "X3_train, X3_test, y3_train, y3_test = train_test_split(X3, y3, test_size=0.2, random_state=42)"
   ]
  },
  {
   "cell_type": "code",
   "execution_count": 39,
   "id": "0b7111a1",
   "metadata": {},
   "outputs": [],
   "source": [
    "# Gradient Boosting\n",
    "gb_model4 = GradientBoostingClassifier()\n",
    "gb_model4.fit(X3_train, y3_train)\n",
    "gb_pred4 = gb_model4.predict(X3_test)\n",
    "gb_accuracy4 = accuracy_score(y3_test, gb_pred4)\n",
    "gb_precision4 = precision_score(y3_test, gb_pred4)\n",
    "gb_recall4 = recall_score(y3_test, gb_pred4)\n",
    "gb_f1_4 = f1_score(y3_test, gb_pred4)\n",
    "gb_roc_auc_4 = roc_auc_score(y3_test, gb_pred4)"
   ]
  },
  {
   "cell_type": "code",
   "execution_count": 40,
   "id": "6f0cf3b5",
   "metadata": {},
   "outputs": [
    {
     "data": {
      "image/png": "[encoded data removed]",
      "text/plain": [
       "<Figure size 576x432 with 1 Axes>"
      ]
     },
     "metadata": {
      "needs_background": "light"
     },
     "output_type": "display_data"
    }
   ],
   "source": [
    "import matplotlib.pyplot as plt\n",
    "\n",
    "models = ['Model 1', 'Model 2', 'Model 3','Model 4']\n",
    "accuracy_scores = [gb_accuracy,gb_accuracy2,gb_accuracy3,gb_accuracy4]\n",
    "\n",
    "plt.figure(figsize=(8, 6))\n",
    "plt.bar(models, accuracy_scores)\n",
    "plt.xlabel('Models')\n",
    "plt.ylabel('Accuracy')\n",
    "plt.title('Accuracy Comparison of Different Models')\n",
    "\n",
    "# Add the values on top of each bar\n",
    "for i, score in enumerate(accuracy_scores):\n",
    "    plt.text(i, score, f'{score:.2f}', ha='center', va='bottom')\n",
    "\n",
    "plt.xticks(rotation=45)\n",
    "plt.show()"
   ]
  },
  {
   "cell_type": "code",
   "execution_count": 41,
   "id": "0beb40c9",
   "metadata": {},
   "outputs": [
    {
     "data": {
      "text/plain": [
       "<Figure size 576x432 with 0 Axes>"
      ]
     },
     "metadata": {},
     "output_type": "display_data"
    },
    {
     "data": {
      "image/png": "[encoded data removed]",
      "text/plain": [
       "<Figure size 432x288 with 1 Axes>"
      ]
     },
     "metadata": {
      "needs_background": "light"
     },
     "output_type": "display_data"
    },
    {
     "data": {
      "image/png": "[encoded data removed]",
      "text/plain": [
       "<Figure size 432x288 with 1 Axes>"
      ]
     },
     "metadata": {
      "needs_background": "light"
     },
     "output_type": "display_data"
    },
    {
     "data": {
      "image/png": "[encoded data removed]",
      "text/plain": [
       "<Figure size 432x288 with 1 Axes>"
      ]
     },
     "metadata": {
      "needs_background": "light"
     },
     "output_type": "display_data"
    },
    {
     "data": {
      "image/png": "[encoded data removed]",
      "text/plain": [
       "<Figure size 432x288 with 1 Axes>"
      ]
     },
     "metadata": {
      "needs_background": "light"
     },
     "output_type": "display_data"
    },
    {
     "data": {
      "image/png": "[encoded data removed]",
      "text/plain": [
       "<Figure size 432x288 with 1 Axes>"
      ]
     },
     "metadata": {
      "needs_background": "light"
     },
     "output_type": "display_data"
    }
   ],
   "source": [
    "import matplotlib.pyplot as plt\n",
    "from sklearn.metrics import roc_curve, RocCurveDisplay\n",
    "\n",
    "# Compute ROC curve and ROC AUC for each model\n",
    "models = {\n",
    "    \"Logistic Regression\": lr_model,\n",
    "    \"Decision Tree\": dt_model,\n",
    "    \"Random Forest\": rf_model,\n",
    "    \"SVM\": svm_model,\n",
    "    \"Gradient Boosting\": gb_model\n",
    "}\n",
    "\n",
    "plt.figure(figsize=(8, 6))\n",
    "\n",
    "for name, model in models.items():\n",
    "    # Predict probabilities for positive class\n",
    "    if name == \"SVM\":\n",
    "        y_pred_proba = model.decision_function(X_test)\n",
    "    else:\n",
    "        y_pred_proba = model.predict_proba(X_test)[:, 1]\n",
    "\n",
    "    # Compute ROC curve and ROC AUC\n",
    "    fpr, tpr, _ = roc_curve(y_test, y_pred_proba)\n",
    "    roc_auc = roc_auc_score(y_test, y_pred_proba)\n",
    "\n",
    "    # Plot ROC curve\n",
    "    roc_display = RocCurveDisplay(fpr=fpr, tpr=tpr, roc_auc=roc_auc, estimator_name=name)\n",
    "    roc_display.plot()\n",
    "\n",
    "# Add legend and labels\n",
    "plt.legend()\n",
    "plt.title('Receiver Operating Characteristic (ROC) Curve')\n",
    "plt.xlabel('False Positive Rate')\n",
    "plt.ylabel('True Positive Rate')\n",
    "plt.show()\n"
   ]
  },
  {
   "cell_type": "code",
   "execution_count": 42,
   "id": "55e7b6b6",
   "metadata": {},
   "outputs": [],
   "source": [
    "from sklearn.feature_extraction.text import CountVectorizer, TfidfVectorizer\n",
    "\n",
    "from sklearn.model_selection import train_test_split\n",
    "from sklearn.naive_bayes import MultinomialNB\n",
    "from sklearn.metrics import accuracy_score"
   ]
  },
  {
   "cell_type": "code",
   "execution_count": 43,
   "id": "4d78dc1f",
   "metadata": {},
   "outputs": [],
   "source": [
    "df2=df[[\"text\"]]\n",
    "x1=df2.text\n",
    "vect=CountVectorizer(stop_words=\"english\")\n",
    "x=vect.fit_transform(x1)\n",
    "x_train,x_test,y_train,y_test=train_test_split(x,y,random_state=42)\n"
   ]
  },
  {
   "cell_type": "code",
   "execution_count": 44,
   "id": "de537b4a",
   "metadata": {},
   "outputs": [
    {
     "data": {
      "text/plain": [
       "GradientBoostingClassifier()"
      ]
     },
     "execution_count": 44,
     "metadata": {},
     "output_type": "execute_result"
    }
   ],
   "source": [
    "# Model training\n",
    "gb_model_text = GradientBoostingClassifier()\n",
    "gb_model_text.fit(x_train,y_train)"
   ]
  },
  {
   "cell_type": "code",
   "execution_count": 45,
   "id": "64a9de3a",
   "metadata": {},
   "outputs": [
    {
     "data": {
      "text/plain": [
       "0.6732394366197183"
      ]
     },
     "execution_count": 45,
     "metadata": {},
     "output_type": "execute_result"
    }
   ],
   "source": [
    "# Model Accuracy\n",
    "prediction1=gb_model_text.predict(x_test)\n",
    "accuracy_score(y_test,prediction1)"
   ]
  },
  {
   "cell_type": "code",
   "execution_count": 46,
   "id": "a80aee95",
   "metadata": {},
   "outputs": [
    {
     "name": "stdout",
     "output_type": "stream",
     "text": [
      "Stress\n"
     ]
    }
   ],
   "source": [
    "user=\"Sometime I feel like I need some help\"\n",
    "# user=\"I would like to be happy\"\n",
    "df2=vect.transform([user]).toarray()\n",
    "output=gb_model_text.predict(df2)\n",
    "if (output==0):\n",
    "    print(\"No Stress\")\n",
    "else:\n",
    "    print(\"Stress\")"
   ]
  }
 ],
 "metadata": {
  "kernelspec": {
   "display_name": "Python 3 (ipykernel)",
   "language": "python",
   "name": "python3"
  },
  "language_info": {
   "codemirror_mode": {
    "name": "ipython",
    "version": 3
   },
   "file_extension": ".py",
   "mimetype": "text/x-python",
   "name": "python",
   "nbconvert_exporter": "python",
   "pygments_lexer": "ipython3",
   "version": "3.9.12"
  }
 },
 "nbformat": 4,
 "nbformat_minor": 5
}
