{
 "cells": [
  {
   "cell_type": "code",
   "execution_count": 1,
   "id": "ed459266",
   "metadata": {},
   "outputs": [],
   "source": [
    "# importing the modules\n",
    "import pandas as pd\n",
    "from sklearn.preprocessing import LabelEncoder\n",
    "from sklearn.model_selection import train_test_split\n",
    "from sklearn.linear_model import LinearRegression\n",
    "from sklearn.metrics import mean_squared_error, r2_score\n",
    "import numpy as np\n",
    "import matplotlib.pyplot as plt\n",
    "from sklearn.tree import DecisionTreeRegressor\n",
    "from sklearn.ensemble import RandomForestRegressor\n",
    "import xgboost as xgb\n",
    "from sklearn.svm import SVR\n"
   ]
  },
  {
   "cell_type": "code",
   "execution_count": 2,
   "id": "26040eca",
   "metadata": {},
   "outputs": [
    {
     "name": "stdout",
     "output_type": "stream",
     "text": [
      "             subreddit post_id sentence_range  \\\n",
      "0                 ptsd  8601tu       (15, 20)   \n",
      "1           assistance  8lbrx9         (0, 5)   \n",
      "2                 ptsd  9ch1zh       (15, 20)   \n",
      "3        relationships  7rorpp        [5, 10]   \n",
      "4     survivorsofabuse  9p2gbc         [0, 5]   \n",
      "...                ...     ...            ...   \n",
      "2833     relationships  7oee1t       [35, 40]   \n",
      "2834              ptsd  9p4ung       [20, 25]   \n",
      "2835           anxiety  9nam6l        (5, 10)   \n",
      "2836    almosthomeless  5y53ya        [5, 10]   \n",
      "2837              ptsd  5y25cl         [0, 5]   \n",
      "\n",
      "                                                   text     id  label  \\\n",
      "0     He said he had not felt that way before, sugge...  33181      1   \n",
      "1     Hey there r/assistance, Not sure if this is th...   2606      0   \n",
      "2     My mom then hit me with the newspaper and it s...  38816      1   \n",
      "3     until i met my new boyfriend, he is amazing, h...    239      1   \n",
      "4     October is Domestic Violence Awareness Month a...   1421      1   \n",
      "...                                                 ...    ...    ...   \n",
      "2833  * Her, a week ago: Precious, how are you? (I i...   1713      0   \n",
      "2834  I don't have the ability to cope with it anymo...   1133      1   \n",
      "2835  In case this is the first time you're reading ...  10442      0   \n",
      "2836  Do you find this normal? They have a good rela...   1834      0   \n",
      "2837  I was talking to my mom this morning and she s...    961      1   \n",
      "\n",
      "      confidence  social_timestamp  social_karma  syntax_ari  syntax_fk_grade  \\\n",
      "0       0.800000        1521614353             5    1.806818         3.253573   \n",
      "1       1.000000        1527009817             4    9.429737         8.828316   \n",
      "2       0.800000        1535935605             2    7.769821         7.841667   \n",
      "3       0.600000        1516429555             0    2.667798         4.104027   \n",
      "4       0.800000        1539809005            24    7.554238         7.910952   \n",
      "...          ...               ...           ...         ...              ...   \n",
      "2833    1.000000        1515187044            13   -1.369333         0.254444   \n",
      "2834    1.000000        1539827412            33    9.425478         8.640664   \n",
      "2835    1.000000        1539269312             2   11.060675         9.951524   \n",
      "2836    0.571429        1488938143             4    2.421912         4.036765   \n",
      "2837    0.571429        1488909516             2    0.835254         2.412000   \n",
      "\n",
      "      sentiment  lex_dal_avg  social_upvote  lex_dal_min  lex_dal_max  \\\n",
      "0     -0.002742      5.18767           1.86       3.1250       8.4821   \n",
      "1      0.292857      5.20550           2.65       3.1250       8.8889   \n",
      "2      0.011894      5.27024           0.67       3.1429       8.7143   \n",
      "3      0.141671      5.26318           5.50       3.1250       8.6364   \n",
      "4     -0.204167      5.23972           2.00       3.1250       9.0000   \n",
      "...         ...          ...            ...          ...          ...   \n",
      "2833   0.552066      5.16738          16.84       3.4000       8.7500   \n",
      "2834  -0.220370      5.03372           6.96       3.0000       8.6333   \n",
      "2835   0.045455      5.21128           2.00       3.2500       8.8889   \n",
      "2836   0.159722      5.19241           7.75       3.2540       8.6591   \n",
      "2837   0.016667      5.03213           2.76       3.0000       7.7000   \n",
      "\n",
      "      lex_liwc  \n",
      "0       784.94  \n",
      "1       880.13  \n",
      "2       867.58  \n",
      "3      1028.58  \n",
      "4       693.15  \n",
      "...        ...  \n",
      "2833    880.86  \n",
      "2834    783.45  \n",
      "2835    817.76  \n",
      "2836    678.52  \n",
      "2837    633.14  \n",
      "\n",
      "[2838 rows x 17 columns]\n"
     ]
    }
   ],
   "source": [
    "# Reading the dataset\n",
    "df = pd.read_csv('Reddit.csv')\n",
    "print(df)"
   ]
  },
  {
   "cell_type": "code",
   "execution_count": 3,
   "id": "42a1da78",
   "metadata": {},
   "outputs": [],
   "source": [
    "# Perform label encoding for the categorical variable\n",
    "label_encoder = LabelEncoder()\n",
    "df['subreddit'] = label_encoder.fit_transform(df['subreddit'])"
   ]
  },
  {
   "cell_type": "code",
   "execution_count": 4,
   "id": "d7a6d74d",
   "metadata": {},
   "outputs": [],
   "source": [
    "X = df[['subreddit','syntax_ari','confidence', 'syntax_fk_grade', 'sentiment', 'lex_dal_avg','social_upvote','lex_dal_min','lex_dal_max','lex_liwc']]\n",
    "y = df['social_karma']"
   ]
  },
  {
   "cell_type": "code",
   "execution_count": 5,
   "id": "9140c7e2",
   "metadata": {},
   "outputs": [],
   "source": [
    "# As we have our varaibles categorised now we shall create the test and train dataset with the ratio being 80:20.\n",
    "X_train, X_test, y_train, y_test = train_test_split(X, y, test_size=0.2, random_state=0)"
   ]
  },
  {
   "cell_type": "markdown",
   "id": "401ffc05",
   "metadata": {},
   "source": [
    "# Linear Regression\n"
   ]
  },
  {
   "cell_type": "code",
   "execution_count": 6,
   "id": "1218a87a",
   "metadata": {},
   "outputs": [],
   "source": [
    "# Create a linear regression model\n",
    "lr_model = LinearRegression()\n",
    "\n",
    "# Train the model\n",
    "lr_model.fit(X_train, y_train)\n",
    "\n",
    "# Make predictions\n",
    "lr_pred = lr_model.predict(X_test)"
   ]
  },
  {
   "cell_type": "code",
   "execution_count": 7,
   "id": "8acf57b9",
   "metadata": {},
   "outputs": [
    {
     "name": "stdout",
     "output_type": "stream",
     "text": [
      "0.5942238692128492\n"
     ]
    },
    {
     "data": {
      "image/png": "[encoded data removed]",
      "text/plain": [
       "<Figure size 432x288 with 1 Axes>"
      ]
     },
     "metadata": {
      "needs_background": "light"
     },
     "output_type": "display_data"
    },
    {
     "data": {
      "image/png": "[encoded data removed]",
      "text/plain": [
       "<Figure size 432x288 with 1 Axes>"
      ]
     },
     "metadata": {
      "needs_background": "light"
     },
     "output_type": "display_data"
    }
   ],
   "source": [
    "# Model coefficients\n",
    "lr_coefficients = lr_model.coef_  # For multiple linear regression\n",
    "lr_intercept = lr_model.intercept_\n",
    "\n",
    "# Evaluation metrics\n",
    "lr_mse = mean_squared_error(y_test, lr_pred)\n",
    "lr_rmse = np.sqrt(lr_mse)\n",
    "r2_linear = r2_score(y_test, lr_pred)\n",
    "\n",
    "print(r2_linear)\n",
    "# Residuals analysis\n",
    "residuals = y_test - lr_pred\n",
    "\n",
    "# Plotting\n",
    "plt.scatter(y_test, lr_pred)\n",
    "plt.xlabel('Actual Values')\n",
    "plt.ylabel('Predicted Values')\n",
    "plt.title('Actual vs. Predicted')\n",
    "plt.show()\n",
    "\n",
    "plt.scatter(lr_pred, residuals)\n",
    "plt.axhline(y=0, color='r', linestyle='-')\n",
    "plt.xlabel('Predicted Values')\n",
    "plt.ylabel('Residuals')\n",
    "plt.title('Residual Plot')\n",
    "plt.show()"
   ]
  },
  {
   "cell_type": "markdown",
   "id": "c1e9e5b7",
   "metadata": {},
   "source": [
    "# Decision tree regression"
   ]
  },
  {
   "cell_type": "code",
   "execution_count": 8,
   "id": "bde498ba",
   "metadata": {},
   "outputs": [],
   "source": [
    "\n",
    "# Create a decision tree regressor\n",
    "dt_model = DecisionTreeRegressor()\n",
    "\n",
    "# Train the model\n",
    "dt_model.fit(X_train, y_train)\n",
    "\n",
    "# Make predictions\n",
    "dt_pred = dt_model.predict(X_test)\n"
   ]
  },
  {
   "cell_type": "code",
   "execution_count": 9,
   "id": "a91974c3",
   "metadata": {},
   "outputs": [
    {
     "name": "stdout",
     "output_type": "stream",
     "text": [
      "0.4304299699172376\n"
     ]
    },
    {
     "data": {
      "image/png": "[encoded data removed]",
      "text/plain": [
       "<Figure size 432x288 with 1 Axes>"
      ]
     },
     "metadata": {
      "needs_background": "light"
     },
     "output_type": "display_data"
    },
    {
     "data": {
      "image/png": "[encoded data removed]",
      "text/plain": [
       "<Figure size 432x288 with 1 Axes>"
      ]
     },
     "metadata": {
      "needs_background": "light"
     },
     "output_type": "display_data"
    }
   ],
   "source": [
    "# Evaluation metrics\n",
    "dt_mse = mean_squared_error(y_test, dt_pred)\n",
    "dt_rmse = np.sqrt(dt_mse)\n",
    "r2_dec = r2_score(y_test, dt_pred)\n",
    "print(r2_dec)\n",
    "# Residuals analysis\n",
    "residuals = y_test - dt_pred\n",
    "\n",
    "# Plotting\n",
    "plt.scatter(y_test, dt_pred)\n",
    "plt.xlabel('Actual Values')\n",
    "plt.ylabel('Predicted Values')\n",
    "plt.title('Actual vs. Predicted')\n",
    "plt.show()\n",
    "\n",
    "plt.scatter(dt_pred, residuals)\n",
    "plt.axhline(y=0, color='r', linestyle='-')\n",
    "plt.xlabel('Predicted Values')\n",
    "plt.ylabel('Residuals')\n",
    "plt.title('Residual Plot')\n",
    "plt.show()"
   ]
  },
  {
   "cell_type": "markdown",
   "id": "5c1182e1",
   "metadata": {},
   "source": [
    "# Random Forest Regression"
   ]
  },
  {
   "cell_type": "code",
   "execution_count": 10,
   "id": "00d9f2f7",
   "metadata": {},
   "outputs": [],
   "source": [
    "\n",
    "# Create a random forest regressor\n",
    "rf_model = RandomForestRegressor()\n",
    "\n",
    "# Train the model\n",
    "rf_model.fit(X_train, y_train)\n",
    "\n",
    "# Make predictions\n",
    "rf_pred = rf_model.predict(X_test)\n"
   ]
  },
  {
   "cell_type": "code",
   "execution_count": 11,
   "id": "1e202a78",
   "metadata": {},
   "outputs": [
    {
     "name": "stdout",
     "output_type": "stream",
     "text": [
      "0.6309681696021444\n"
     ]
    },
    {
     "data": {
      "image/png": "[encoded data removed]",
      "text/plain": [
       "<Figure size 432x288 with 1 Axes>"
      ]
     },
     "metadata": {
      "needs_background": "light"
     },
     "output_type": "display_data"
    },
    {
     "data": {
      "image/png": "[encoded data removed]",
      "text/plain": [
       "<Figure size 432x288 with 1 Axes>"
      ]
     },
     "metadata": {
      "needs_background": "light"
     },
     "output_type": "display_data"
    }
   ],
   "source": [
    "# Evaluation metrics\n",
    "rf_mse = mean_squared_error(y_test, rf_pred)\n",
    "rf_rmse = np.sqrt(rf_mse)\n",
    "r2_ran = r2_score(y_test, rf_pred)\n",
    "print(r2_ran)\n",
    "# Residuals analysis\n",
    "residuals = y_test - rf_pred\n",
    "\n",
    "# Plotting\n",
    "plt.scatter(y_test, rf_pred)\n",
    "plt.xlabel('Actual Values')\n",
    "plt.ylabel('Predicted Values')\n",
    "plt.title('Actual vs. Predicted')\n",
    "plt.show()\n",
    "\n",
    "plt.scatter(rf_pred, residuals)\n",
    "plt.axhline(y=0, color='r', linestyle='-')\n",
    "plt.xlabel('Predicted Values')\n",
    "plt.ylabel('Residuals')\n",
    "plt.title('Residual Plot')\n",
    "plt.show()"
   ]
  },
  {
   "cell_type": "markdown",
   "id": "e0299d9c",
   "metadata": {},
   "source": [
    "# Gradient Boosting"
   ]
  },
  {
   "cell_type": "code",
   "execution_count": 12,
   "id": "fd19fbf7",
   "metadata": {},
   "outputs": [],
   "source": [
    "# Create a gradient boosting regressor\n",
    "gb_model = xgb.XGBRegressor()\n",
    "\n",
    "# Train the model\n",
    "gb_model.fit(X_train, y_train)\n",
    "\n",
    "# Make predictions\n",
    "gb_pred = gb_model.predict(X_test)\n"
   ]
  },
  {
   "cell_type": "code",
   "execution_count": 13,
   "id": "d7840f12",
   "metadata": {},
   "outputs": [
    {
     "name": "stdout",
     "output_type": "stream",
     "text": [
      "0.5840376208815271\n"
     ]
    },
    {
     "data": {
      "image/png": "[encoded data removed]",
      "text/plain": [
       "<Figure size 432x288 with 1 Axes>"
      ]
     },
     "metadata": {
      "needs_background": "light"
     },
     "output_type": "display_data"
    },
    {
     "data": {
      "image/png": "[encoded data removed]",
      "text/plain": [
       "<Figure size 432x288 with 1 Axes>"
      ]
     },
     "metadata": {
      "needs_background": "light"
     },
     "output_type": "display_data"
    }
   ],
   "source": [
    "# Evaluation metrics\n",
    "gb_mse = mean_squared_error(y_test, gb_pred)\n",
    "gb_rmse = np.sqrt(gb_mse)\n",
    "r2_grad = r2_score(y_test, gb_pred)\n",
    "print(r2_grad)\n",
    "# Residuals analysis\n",
    "residuals = y_test - gb_pred\n",
    "\n",
    "# Plotting\n",
    "plt.scatter(y_test, gb_pred)\n",
    "plt.xlabel('Actual Values')\n",
    "plt.ylabel('Predicted Values')\n",
    "plt.title('Actual vs. Predicted')\n",
    "plt.show()\n",
    "\n",
    "plt.scatter(gb_pred, residuals)\n",
    "plt.axhline(y=0, color='r', linestyle='-')\n",
    "plt.xlabel('Predicted Values')\n",
    "plt.ylabel('Residuals')\n",
    "plt.title('Residual Plot')\n",
    "plt.show()"
   ]
  },
  {
   "cell_type": "markdown",
   "id": "927bb67d",
   "metadata": {},
   "source": [
    "# Support Vector Regression"
   ]
  },
  {
   "cell_type": "code",
   "execution_count": 14,
   "id": "1fe74163",
   "metadata": {},
   "outputs": [],
   "source": [
    "# Create an SVR model\n",
    "svr_model = SVR()\n",
    "\n",
    "# Train the model\n",
    "svr_model.fit(X_train, y_train)\n",
    "\n",
    "# Make predictions\n",
    "svr_pred = svr_model.predict(X_test)\n"
   ]
  },
  {
   "cell_type": "code",
   "execution_count": 15,
   "id": "1d56b28f",
   "metadata": {},
   "outputs": [
    {
     "name": "stdout",
     "output_type": "stream",
     "text": [
      "-0.01171488227716111\n"
     ]
    },
    {
     "data": {
      "image/png": "[encoded data removed]",
      "text/plain": [
       "<Figure size 432x288 with 1 Axes>"
      ]
     },
     "metadata": {
      "needs_background": "light"
     },
     "output_type": "display_data"
    },
    {
     "data": {
      "image/png": "[encoded data removed]",
      "text/plain": [
       "<Figure size 432x288 with 1 Axes>"
      ]
     },
     "metadata": {
      "needs_background": "light"
     },
     "output_type": "display_data"
    }
   ],
   "source": [
    "# Evaluation metrics\n",
    "svr_mse = mean_squared_error(y_test, svr_pred)\n",
    "svr_rmse = np.sqrt(svr_mse)\n",
    "r2_svr = r2_score(y_test, svr_pred)\n",
    "print(r2_svr)\n",
    "# Residuals analysis\n",
    "residuals = y_test - svr_pred\n",
    "\n",
    "# Plotting\n",
    "plt.scatter(y_test, svr_pred)\n",
    "plt.xlabel('Actual Values')\n",
    "plt.ylabel('Predicted Values')\n",
    "plt.title('Actual vs. Predicted')\n",
    "plt.show()\n",
    "\n",
    "plt.scatter(svr_pred, residuals)\n",
    "plt.axhline(y=0, color='r', linestyle='-')\n",
    "plt.xlabel('Predicted Values')\n",
    "plt.ylabel('Residuals')\n",
    "plt.title('Residual Plot')\n",
    "plt.show()"
   ]
  },
  {
   "cell_type": "code",
   "execution_count": 16,
   "id": "f983b5ba",
   "metadata": {},
   "outputs": [
    {
     "data": {
      "image/png": "[encoded data removed]",
      "text/plain": [
       "<Figure size 576x432 with 1 Axes>"
      ]
     },
     "metadata": {
      "needs_background": "light"
     },
     "output_type": "display_data"
    }
   ],
   "source": [
    "# Graph to check the all the models R score together\n",
    "import matplotlib.pyplot as plt\n",
    "\n",
    "models = ['Linear Regression', 'Decision Tree', 'Random Forest','Gradient Boosting','SVR']\n",
    "accuracy_scores = [r2_linear,r2_dec,r2_ran,r2_grad,r2_svr]\n",
    "\n",
    "plt.figure(figsize=(8, 6))\n",
    "plt.bar(models, accuracy_scores)\n",
    "plt.xlabel('Models')\n",
    "plt.ylabel('R Score')\n",
    "plt.title('R Score Comparison of Different Models')\n",
    "\n",
    "# Add the values on top of each bar\n",
    "for i, score in enumerate(accuracy_scores):\n",
    "    plt.text(i, score, f'{score:.2f}', ha='center', va='bottom')\n",
    "\n",
    "plt.xticks(rotation=45)\n",
    "plt.show()"
   ]
  },
  {
   "cell_type": "markdown",
   "id": "7254abc3",
   "metadata": {},
   "source": [
    "# Code to check which variables have positive and negative impact on the dataset."
   ]
  },
  {
   "cell_type": "code",
   "execution_count": 17,
   "id": "5b49dba4",
   "metadata": {},
   "outputs": [
    {
     "name": "stdout",
     "output_type": "stream",
     "text": [
      "subreddit: -0.40557965932146584\n",
      "syntax_ari: 2.145922468984518\n",
      "confidence: 5.546395217251369\n",
      "syntax_fk_grade: -1.7410083335440287\n",
      "sentiment: 2.6397709249778814\n",
      "lex_dal_avg: 4.3141009757371025\n",
      "social_upvote: 3.01246232416323\n",
      "lex_dal_min: -0.6700761296705174\n",
      "lex_dal_max: 2.021167339233587\n",
      "lex_liwc: -0.022059173142142008\n"
     ]
    }
   ],
   "source": [
    "from sklearn.linear_model import LinearRegression\n",
    "\n",
    "# Create a linear regression model\n",
    "model = LinearRegression()\n",
    "\n",
    "# Train the model\n",
    "model.fit(X_train, y_train)\n",
    "\n",
    "# Get the coefficients\n",
    "coefficients = model.coef_\n",
    "\n",
    "# Associate the coefficients with the input variables\n",
    "variable_impact = dict(zip(X.columns, coefficients))\n",
    "\n",
    "# Print the variable impact\n",
    "for variable, impact in variable_impact.items():\n",
    "    print(f\"{variable}: {impact}\")\n"
   ]
  },
  {
   "cell_type": "markdown",
   "id": "5e19260b",
   "metadata": {},
   "source": [
    "# Model 1 Using Linear Regression"
   ]
  },
  {
   "cell_type": "code",
   "execution_count": 18,
   "id": "669281fd",
   "metadata": {},
   "outputs": [],
   "source": [
    "X1 = df[['syntax_ari', 'confidence', 'sentiment', 'lex_dal_avg','social_upvote']]\n",
    "y1 = df['social_karma']"
   ]
  },
  {
   "cell_type": "code",
   "execution_count": 19,
   "id": "a2abb28f",
   "metadata": {},
   "outputs": [],
   "source": [
    "# As we have our varaibles categorised now we shall create the test and train dataset with the ratio being 80:20.\n",
    "X1_train, X1_test, y1_train, y1_test = train_test_split(X1, y1, test_size=0.2, random_state=0)"
   ]
  },
  {
   "cell_type": "code",
   "execution_count": 20,
   "id": "66108208",
   "metadata": {},
   "outputs": [],
   "source": [
    "# Create a linear regression model\n",
    "model1 = LinearRegression()\n",
    "\n",
    "# Train the model\n",
    "model1.fit(X1_train, y1_train)\n",
    "\n",
    "# Make predictions\n",
    "y_pred_1 = model1.predict(X1_test)"
   ]
  },
  {
   "cell_type": "code",
   "execution_count": 21,
   "id": "7ddd6571",
   "metadata": {},
   "outputs": [
    {
     "name": "stdout",
     "output_type": "stream",
     "text": [
      "0.5934112059072097\n"
     ]
    }
   ],
   "source": [
    "# Model coefficients\n",
    "coefficients = model1.coef_  # For multiple linear regression\n",
    "intercept = model1.intercept_\n",
    "\n",
    "# Evaluation metrics\n",
    "mse1 = mean_squared_error(y1_test, y_pred_1)\n",
    "rmse1 = np.sqrt(mse1)\n",
    "r2_linear1 = r2_score(y1_test, y_pred_1)\n",
    "\n",
    "print(r2_linear1)"
   ]
  },
  {
   "cell_type": "markdown",
   "id": "c4e8aa56",
   "metadata": {},
   "source": [
    "# Model 2 Using Linear Regression"
   ]
  },
  {
   "cell_type": "code",
   "execution_count": 22,
   "id": "bf50ef86",
   "metadata": {},
   "outputs": [],
   "source": [
    "X2 = df[['lex_dal_min', 'confidence', 'sentiment', 'lex_dal_avg','lex_dal_max']]\n",
    "y2 = df['social_karma']"
   ]
  },
  {
   "cell_type": "code",
   "execution_count": 23,
   "id": "7cfffc4f",
   "metadata": {},
   "outputs": [],
   "source": [
    "# As we have our varaibles categorised now we shall create the test and train dataset with the ratio being 80:20.\n",
    "X2_train, X2_test, y2_train, y2_test = train_test_split(X2, y2, test_size=0.2, random_state=0)"
   ]
  },
  {
   "cell_type": "code",
   "execution_count": 24,
   "id": "61e413bb",
   "metadata": {},
   "outputs": [],
   "source": [
    "# Create a linear regression model\n",
    "model2 = LinearRegression()\n",
    "\n",
    "# Train the model\n",
    "model2.fit(X2_train, y2_train)\n",
    "\n",
    "# Make predictions\n",
    "y_pred_2 = model2.predict(X2_test)"
   ]
  },
  {
   "cell_type": "code",
   "execution_count": 25,
   "id": "e0c921c6",
   "metadata": {},
   "outputs": [
    {
     "name": "stdout",
     "output_type": "stream",
     "text": [
      "-0.0091982145749947\n"
     ]
    }
   ],
   "source": [
    "# Model coefficients\n",
    "coefficients = model2.coef_  # For multiple linear regression\n",
    "intercept = model2.intercept_\n",
    "\n",
    "# Evaluation metrics\n",
    "mse2 = mean_squared_error(y2_test, y_pred_2)\n",
    "rmse2 = np.sqrt(mse2)\n",
    "r2_linear2 = r2_score(y2_test, y_pred_2)\n",
    "\n",
    "print(r2_linear2)"
   ]
  },
  {
   "cell_type": "markdown",
   "id": "1d45361f",
   "metadata": {},
   "source": [
    "# Model 3 Using Linear Regression"
   ]
  },
  {
   "cell_type": "code",
   "execution_count": 26,
   "id": "b5ee0365",
   "metadata": {},
   "outputs": [],
   "source": [
    "X3 = df[['lex_dal_max', 'lex_dal_min', 'social_upvote', 'sentiment','confidence']]\n",
    "y3 = df['social_karma']"
   ]
  },
  {
   "cell_type": "code",
   "execution_count": 27,
   "id": "7094f9e2",
   "metadata": {},
   "outputs": [],
   "source": [
    "# As we have our varaibles categorised now we shall create the test and train dataset with the ratio being 80:20.\n",
    "X3_train, X3_test, y3_train, y3_test = train_test_split(X3, y3, test_size=0.2, random_state=0)"
   ]
  },
  {
   "cell_type": "code",
   "execution_count": 28,
   "id": "78c327a5",
   "metadata": {},
   "outputs": [],
   "source": [
    "# Create a linear regression model\n",
    "model3 = LinearRegression()\n",
    "\n",
    "# Train the model\n",
    "model3.fit(X3_train, y3_train)\n",
    "\n",
    "# Make predictions\n",
    "y_pred_3 = model3.predict(X3_test)"
   ]
  },
  {
   "cell_type": "code",
   "execution_count": 29,
   "id": "d1f94c43",
   "metadata": {},
   "outputs": [
    {
     "name": "stdout",
     "output_type": "stream",
     "text": [
      "0.5979872853851567\n"
     ]
    }
   ],
   "source": [
    "# Model coefficients\n",
    "coefficients = model3.coef_  # For multiple linear regression\n",
    "intercept = model3.intercept_\n",
    "\n",
    "# Evaluation metrics\n",
    "mse3 = mean_squared_error(y3_test, y_pred_3)\n",
    "rmse3 = np.sqrt(mse3)\n",
    "r2_linear3 = r2_score(y3_test, y_pred_3)\n",
    "\n",
    "print(r2_linear3)"
   ]
  },
  {
   "cell_type": "markdown",
   "id": "2b68b0da",
   "metadata": {},
   "source": [
    "# Model 4 Using Linear Regression"
   ]
  },
  {
   "cell_type": "code",
   "execution_count": 30,
   "id": "26cf9aff",
   "metadata": {},
   "outputs": [],
   "source": [
    "X4 = df[['subreddit', 'syntax_fk_grade', 'lex_liwc', 'confidence','sentiment']]\n",
    "y4 = df['social_karma']"
   ]
  },
  {
   "cell_type": "code",
   "execution_count": 31,
   "id": "b3729bac",
   "metadata": {},
   "outputs": [],
   "source": [
    "# As we have our varaibles categorised now we shall create the test and train dataset with the ratio being 80:20.\n",
    "X4_train, X4_test, y4_train, y4_test = train_test_split(X4, y4, test_size=0.2, random_state=0)"
   ]
  },
  {
   "cell_type": "code",
   "execution_count": 32,
   "id": "6fb8c52a",
   "metadata": {},
   "outputs": [],
   "source": [
    "# Create a linear regression model\n",
    "model4 = LinearRegression()\n",
    "\n",
    "# Train the model\n",
    "model4.fit(X4_train, y4_train)\n",
    "\n",
    "# Make predictions\n",
    "y_pred_4 = model4.predict(X4_test)"
   ]
  },
  {
   "cell_type": "code",
   "execution_count": 33,
   "id": "e445e4f9",
   "metadata": {},
   "outputs": [
    {
     "name": "stdout",
     "output_type": "stream",
     "text": [
      "0.006906048880807258\n"
     ]
    }
   ],
   "source": [
    "# Model coefficients\n",
    "coefficients = model4.coef_  # For multiple linear regression\n",
    "intercept = model4.intercept_\n",
    "\n",
    "# Evaluation metrics\n",
    "mse4 = mean_squared_error(y4_test, y_pred_4)\n",
    "rmse4 = np.sqrt(mse4)\n",
    "r2_linear4 = r2_score(y4_test, y_pred_4)\n",
    "\n",
    "print(r2_linear4)"
   ]
  },
  {
   "cell_type": "markdown",
   "id": "8892fa3c",
   "metadata": {},
   "source": [
    "# Below are the 4 models which are being used with Random Forest"
   ]
  },
  {
   "cell_type": "code",
   "execution_count": 34,
   "id": "31c6673b",
   "metadata": {},
   "outputs": [
    {
     "name": "stdout",
     "output_type": "stream",
     "text": [
      "0.6544474866112547\n"
     ]
    }
   ],
   "source": [
    "# Model 1 Using Random Forest\n",
    "\n",
    "X1_gb = df[['syntax_ari', 'confidence', 'sentiment', 'lex_dal_avg','social_upvote']]\n",
    "y1_gb = df['social_karma']\n",
    "\n",
    "# As we have our varaibles categorised now we shall create the test and train dataset with the ratio being 80:20.\n",
    "X1_gb_train, X1_gb_test, y1_gb_train, y1_gb_test = train_test_split(X1_gb, y1_gb, test_size=0.2, random_state=0)\n",
    "\n",
    "# Create a linear regression model\n",
    "model1_gb = RandomForestRegressor()\n",
    "\n",
    "# Train the model\n",
    "model1_gb.fit(X1_gb_train, y1_gb_train)\n",
    "\n",
    "# Make predictions\n",
    "y_pred_1_gb = model1_gb.predict(X1_gb_test)\n",
    "\n",
    "# Evaluation metrics\n",
    "mse1_gb = mean_squared_error(y1_gb_test, y_pred_1_gb)\n",
    "rmse1_gb = np.sqrt(mse1_gb)\n",
    "r2_grad1_gb = r2_score(y1_gb_test, y_pred_1_gb)\n",
    "\n",
    "print(r2_grad1_gb)"
   ]
  },
  {
   "cell_type": "code",
   "execution_count": 35,
   "id": "f9dc3157",
   "metadata": {},
   "outputs": [
    {
     "name": "stdout",
     "output_type": "stream",
     "text": [
      "-0.19008769162527872\n"
     ]
    }
   ],
   "source": [
    "# Model 2 Using Random Forest\n",
    "X2_gb = df[['lex_dal_min', 'confidence', 'sentiment', 'lex_dal_avg','lex_dal_max']]\n",
    "y2_gb = df['social_karma']\n",
    "\n",
    "# As we have our variables categorized now we shall create the test and train dataset with the ratio being 80:20.\n",
    "X2_gb_train, X2_gb_test, y2_gb_train, y2_gb_test = train_test_split(X2_gb, y2_gb, test_size=0.2, random_state=0)\n",
    "\n",
    "# Create a linear regression model\n",
    "model2_gb = RandomForestRegressor()\n",
    "\n",
    "# Train the model\n",
    "model2_gb.fit(X2_gb_train, y2_gb_train)\n",
    "\n",
    "# Make predictions\n",
    "y_pred_2_gb = model2_gb.predict(X2_gb_test)\n",
    "\n",
    "# Evaluation metrics\n",
    "mse2_gb = mean_squared_error(y2_gb_test, y_pred_2_gb)\n",
    "rmse2_gb = np.sqrt(mse2_gb)\n",
    "r2_grad2_gb = r2_score(y2_gb_test, y_pred_2_gb)\n",
    "\n",
    "print(r2_grad2_gb)"
   ]
  },
  {
   "cell_type": "code",
   "execution_count": 36,
   "id": "4bc55863",
   "metadata": {},
   "outputs": [
    {
     "name": "stdout",
     "output_type": "stream",
     "text": [
      "0.6530065560813918\n"
     ]
    }
   ],
   "source": [
    "# Model 3 Using Random Forest\n",
    "\n",
    "X3_gb = df[['lex_dal_max', 'lex_dal_min', 'social_upvote', 'sentiment','confidence']]\n",
    "y3_gb = df['social_karma']\n",
    "\n",
    "# As we have our variables categorized now we shall create the test and train dataset with the ratio being 80:20.\n",
    "X3_gb_train, X3_gb_test, y3_gb_train, y3_gb_test = train_test_split(X3_gb, y3_gb, test_size=0.2, random_state=0)\n",
    "\n",
    "# Create a linear regression model\n",
    "model3_gb = RandomForestRegressor()\n",
    "\n",
    "# Train the model\n",
    "model3_gb.fit(X3_gb_train, y3_gb_train)\n",
    "\n",
    "# Make predictions\n",
    "y_pred_3_gb = model3_gb.predict(X3_gb_test)\n",
    "\n",
    "\n",
    "# Evaluation metrics\n",
    "mse3_gb = mean_squared_error(y3_gb_test, y_pred_3_gb)\n",
    "rmse3_gb = np.sqrt(mse3_gb)\n",
    "r2_grad3_gb = r2_score(y3_gb_test, y_pred_3_gb)\n",
    "\n",
    "print(r2_grad3_gb)\n"
   ]
  },
  {
   "cell_type": "code",
   "execution_count": 37,
   "id": "4d27b9c7",
   "metadata": {},
   "outputs": [
    {
     "name": "stdout",
     "output_type": "stream",
     "text": [
      "-0.36225454801444923\n"
     ]
    }
   ],
   "source": [
    "# Model 4 Using Random Forest\n",
    "\n",
    "X4_gb = df[['subreddit', 'syntax_fk_grade', 'lex_liwc', 'confidence','sentiment']]\n",
    "y4_gb = df['social_karma']\n",
    "\n",
    "# As we have our variables categorized now we shall create the test and train dataset with the ratio being 80:20.\n",
    "X4_gb_train, X4_gb_test, y4_gb_train, y4_gb_test = train_test_split(X4_gb, y4_gb, test_size=0.2, random_state=0)\n",
    "\n",
    "# Create a linear regression model\n",
    "model4_gb = RandomForestRegressor()\n",
    "\n",
    "# Train the model\n",
    "model4_gb.fit(X4_gb_train, y4_gb_train)\n",
    "\n",
    "# Make predictions\n",
    "y_pred_4_gb = model4_gb.predict(X4_gb_test)\n",
    "\n",
    "# Evaluation metrics\n",
    "mse4_gb = mean_squared_error(y4_gb_test, y_pred_4_gb)\n",
    "rmse4_gb = np.sqrt(mse4_gb)\n",
    "r2_grad4_gb = r2_score(y4_gb_test, y_pred_4_gb)\n",
    "\n",
    "print(r2_grad4_gb)\n"
   ]
  },
  {
   "cell_type": "markdown",
   "id": "a136bae1",
   "metadata": {},
   "source": [
    "# The below two graphs shows the 5 models with one being linear and random forest"
   ]
  },
  {
   "cell_type": "code",
   "execution_count": 38,
   "id": "6702c1ea",
   "metadata": {},
   "outputs": [
    {
     "data": {
      "image/png": "[encoded data removed]",
      "text/plain": [
       "<Figure size 576x432 with 1 Axes>"
      ]
     },
     "metadata": {
      "needs_background": "light"
     },
     "output_type": "display_data"
    }
   ],
   "source": [
    "import matplotlib.pyplot as plt\n",
    "\n",
    "models = ['Linear model','Linear model 1', 'Linear model 2', 'Linear model 3','Linear model 4']\n",
    "accuracy_scores = [r2_linear,r2_linear1,r2_linear2,r2_linear3,r2_linear4]\n",
    "\n",
    "plt.figure(figsize=(8, 6))\n",
    "plt.bar(models, accuracy_scores)\n",
    "plt.xlabel('Models')\n",
    "plt.ylabel('r2')\n",
    "plt.title('Accuracy Comparison of Different Models')\n",
    "\n",
    "# Add the values on top of each bar\n",
    "for i, score in enumerate(accuracy_scores):\n",
    "    plt.text(i, score, f'{score:.2f}', ha='center', va='bottom')\n",
    "\n",
    "plt.xticks(rotation=45)\n",
    "plt.show()"
   ]
  },
  {
   "cell_type": "code",
   "execution_count": 39,
   "id": "550f2dc5",
   "metadata": {},
   "outputs": [
    {
     "data": {
      "image/png": "[encoded data removed]",
      "text/plain": [
       "<Figure size 576x432 with 1 Axes>"
      ]
     },
     "metadata": {
      "needs_background": "light"
     },
     "output_type": "display_data"
    }
   ],
   "source": [
    "import matplotlib.pyplot as plt\n",
    "\n",
    "models = ['random forest model','random forest model 1', 'random forest model 2', 'random forest model 3','random forest model 4']\n",
    "accuracy_scores = [r2_grad,r2_grad1_gb,r2_grad2_gb,r2_grad3_gb,r2_grad4_gb]\n",
    "\n",
    "plt.figure(figsize=(8, 6))\n",
    "plt.bar(models, accuracy_scores)\n",
    "plt.xlabel('Models')\n",
    "plt.ylabel('r2')\n",
    "plt.title('Accuracy Comparison of Different Models')\n",
    "\n",
    "# Add the values on top of each bar\n",
    "for i, score in enumerate(accuracy_scores):\n",
    "    plt.text(i, score, f'{score:.2f}', ha='center', va='bottom')\n",
    "\n",
    "plt.xticks(rotation=45)\n",
    "plt.show()"
   ]
  },
  {
   "cell_type": "code",
   "execution_count": 40,
   "id": "784e3d89",
   "metadata": {},
   "outputs": [
    {
     "name": "stdout",
     "output_type": "stream",
     "text": [
      "Coefficients: [ 2.58198049 -3.26503901  2.89832332  1.6966921   4.27907644]\n",
      "Intercept: -27.890830356929378\n",
      "Mean Squared Error: 2316.3181775782123\n",
      "Root Mean Squared Error: 48.12814330075712\n",
      "R-squared: 0.6326325902146464\n"
     ]
    }
   ],
   "source": [
    "import pandas as pd\n",
    "from sklearn.linear_model import LinearRegression\n",
    "from sklearn.metrics import mean_squared_error, r2_score\n",
    "\n",
    "# Load the dataset from a CSV file\n",
    "data = df\n",
    "\n",
    "# Select the independent variables and dependent variable\n",
    "X = data[['lex_dal_max', 'lex_dal_min', 'social_upvote', 'sentiment','confidence']]\n",
    "y = data['social_karma']\n",
    "\n",
    "# Create a linear regression model\n",
    "model = LinearRegression()\n",
    "\n",
    "# Fit the model to the data\n",
    "model.fit(X, y)\n",
    "\n",
    "# Make predictions\n",
    "y_pred = model.predict(X)\n",
    "\n",
    "# Model coefficients\n",
    "coefficients = model.coef_  # Coefficients for each independent variable\n",
    "intercept = model.intercept_  # Intercept term\n",
    "\n",
    "# Evaluation metrics\n",
    "mse = mean_squared_error(y, y_pred)  # Mean squared error\n",
    "rmse = np.sqrt(mse)  # Root mean squared error\n",
    "r2 = r2_score(y, y_pred)  # R-squared value\n",
    "\n",
    "# Print the coefficients, intercept, and evaluation metrics\n",
    "print(\"Coefficients:\", coefficients)\n",
    "print(\"Intercept:\", intercept)\n",
    "print(\"Mean Squared Error:\", mse)\n",
    "print(\"Root Mean Squared Error:\", rmse)\n",
    "print(\"R-squared:\", r2)\n"
   ]
  }
 ],
 "metadata": {
  "kernelspec": {
   "display_name": "Python 3 (ipykernel)",
   "language": "python",
   "name": "python3"
  },
  "language_info": {
   "codemirror_mode": {
    "name": "ipython",
    "version": 3
   },
   "file_extension": ".py",
   "mimetype": "text/x-python",
   "name": "python",
   "nbconvert_exporter": "python",
   "pygments_lexer": "ipython3",
   "version": "3.9.12"
  }
 },
 "nbformat": 4,
 "nbformat_minor": 5
}
